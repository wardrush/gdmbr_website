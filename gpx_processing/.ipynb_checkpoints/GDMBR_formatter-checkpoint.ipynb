{
 "cells": [
  {
   "cell_type": "code",
   "execution_count": 7,
   "metadata": {
    "collapsed": false
   },
   "outputs": [],
   "source": [
    "import pandas as pd\n",
    "import numpy\n",
    "import gpxpy \n",
    "import gpxpy.gpx \n",
    "import os"
   ]
  },
  {
   "cell_type": "code",
   "execution_count": 8,
   "metadata": {
    "collapsed": false
   },
   "outputs": [],
   "source": [
    "gpx_filepath = os.path.join(\"/home\", \"wardrush\", \"mysite\", \"gpx_processing\", \"TourDivide2021_v2_10k.gpx\")"
   ]
  },
  {
   "cell_type": "code",
   "execution_count": 10,
   "metadata": {
    "collapsed": false
   },
   "outputs": [],
   "source": [
    "gpx_file = open(gpx_filepath, 'r') \n",
    "gpx = gpxpy.parse(gpx_file)\n",
    "\n",
    "trackpoint_list = []\n",
    "# Iterate through rows to \n",
    "for track in gpx.tracks:\n",
    "    for segment in track.segments:\n",
    "        for point in segment.points:\n",
    "            trackpoint_list.append({\"latitude\":point.latitude,\n",
    "                                    \"longitude\":point.longitude,\n",
    "                                    \"elevation\":point.elevation\n",
    "                                    })\n",
    "gpx_df = pd.DataFrame(trackpoint_list, columns=[\"latitude\", \"longitude\", \"elevation\"])\n",
    "gpx_df.to_csv(\"GPX.csv\")"
   ]
  },
  {
   "cell_type": "code",
   "execution_count": 17,
   "metadata": {
    "collapsed": false
   },
   "outputs": [],
   "source": [
    "import os\n",
    "import gpxpy\n",
    "import gpxpy.gpx\n",
    "\n",
    "def split_gpx(source, dest_dir, max_segment_points=1000):\n",
    "    output_count = 1\n",
    "    with open(source, \"r\") as f:\n",
    "        gpx = gpxpy.parse(f)\n",
    "\n",
    "    output_segment = gpxpy.gpx.GPXTrackSegment()\n",
    "\n",
    "    for track in gpx.tracks:\n",
    "        for segment in track.segments:\n",
    "            for point in segment.points:\n",
    "                output_segment.points.append(point)\n",
    "\n",
    "                if len(output_segment.points) >= max_segment_points:\n",
    "                    write_gpx(dest_dir, output_count, output_segment)\n",
    "                    output_count += 1\n",
    "                    output_segment = gpxpy.gpx.GPXTrackSegment()\n",
    "                    output_segment.points.append(point)\n",
    "\n",
    "    if len(output_segment.points) > 1:\n",
    "        write_gpx(dest_dir, output_count, output_segment)\n",
    "\n",
    "\n",
    "def write_gpx(dest_dir, i, segment):\n",
    "    gpx = gpxpy.gpx.GPX()\n",
    "    gpx_track = gpxpy.gpx.GPXTrack()\n",
    "    gpx.tracks.append(gpx_track)\n",
    "    gpx_track.segments.append(segment)\n",
    "\n",
    "    with open(os.path.join(dest_dir, str(i) + \"_GDMBR 2022\" + \".gpx\"), \"w\") as f:\n",
    "        f.write(gpx.to_xml())\n",
    "\n",
    "\n",
    "\n",
    "split_gpx(source=gpx_filepath, dest_dir=os.path.join(\"/home\", \"wardrush\", \"mysite\", \"gpx_processing\"), max_segment_points=1000)"
   ]
  },
  {
   "cell_type": "code",
   "execution_count": null,
   "metadata": {
    "collapsed": true
   },
   "outputs": [],
   "source": []
  }
 ],
 "metadata": {
  "kernelspec": {
   "display_name": "Python 3.9",
   "language": "python",
   "name": "python3.9"
  },
  "language_info": {
   "codemirror_mode": {
    "name": "ipython",
    "version": 3
   },
   "file_extension": ".py",
   "mimetype": "text/x-python",
   "name": "python",
   "nbconvert_exporter": "python",
   "pygments_lexer": "ipython3",
   "version": "3.9.5"
  }
 },
 "nbformat": 4,
 "nbformat_minor": 4
}
